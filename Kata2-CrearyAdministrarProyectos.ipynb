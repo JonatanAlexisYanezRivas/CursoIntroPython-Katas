{
 "cells": [
  {
   "cell_type": "markdown",
   "metadata": {},
   "source": [
    "## Crear un entorno virtual.\n",
    "\n",
    "Abrir la terminal y ejecutar el siguiente comando:"
   ]
  },
  {
   "cell_type": "code",
   "execution_count": null,
   "metadata": {},
   "outputs": [],
   "source": [
    "python3 -m venv env"
   ]
  },
  {
   "cell_type": "markdown",
   "metadata": {},
   "source": [
    "Antes de ejecutar ingresa a la carpeta donde se quiera tener el entorno virtual con la instrucción \"cd\" en Windows. \n",
    "\n",
    "### Activar el entorno virtual.\n",
    "\n",
    "En windows se debera ingresar el siguiente comando desde la terminal:"
   ]
  },
  {
   "cell_type": "code",
   "execution_count": null,
   "metadata": {},
   "outputs": [],
   "source": [
    "env\\Scripts\\activate.bat"
   ]
  },
  {
   "cell_type": "markdown",
   "metadata": {},
   "source": [
    "Una vez ingresado el comando deberá salir en nuestra terminal \"(env)\" antes del \"C:\" "
   ]
  },
  {
   "cell_type": "markdown",
   "metadata": {},
   "source": [
    "<img src=\"1-entornoVirtual.png\">"
   ]
  },
  {
   "cell_type": "markdown",
   "metadata": {},
   "source": [
    "## Instalar una biblioteca.\n",
    "\n",
    "<li>Para ver las bibliotecas instaladas en nuestro entorno virtual se debe ejecutar el siguente comando:</li>"
   ]
  },
  {
   "cell_type": "code",
   "execution_count": null,
   "metadata": {},
   "outputs": [],
   "source": [
    "pip freeze"
   ]
  },
  {
   "cell_type": "markdown",
   "metadata": {},
   "source": [
    "Como no hemos realizado ningún cambio en nuestro entorno virtual este comando no nos arrogará nada\n",
    "\n",
    "<li> Instalar una biblioteca con el siguiente comando:</li>"
   ]
  },
  {
   "cell_type": "code",
   "execution_count": null,
   "metadata": {},
   "outputs": [],
   "source": [
    "pip install python-dateutil"
   ]
  },
  {
   "cell_type": "markdown",
   "metadata": {},
   "source": [
    "Saldrá un mensaje de que la instalacións se ha realizado.\n",
    "\n",
    "<li> Volvemos a ejecutar el siguiente comando:</li>"
   ]
  },
  {
   "cell_type": "code",
   "execution_count": null,
   "metadata": {},
   "outputs": [],
   "source": [
    "pip freeze"
   ]
  },
  {
   "cell_type": "markdown",
   "metadata": {},
   "source": [
    "<li> Ahora saldrá la librería que hemos instaldo, como se ve en la última imagen: </li> <br>\n",
    "\n",
    "<img src=\"2.1-entornoVirtual.png\">\n",
    "\n",
    "## Desactivar un entorno virtual:\n",
    "\n",
    "<li> Es muy fácil de realizar basta con el siguiente comando:</li> "
   ]
  },
  {
   "cell_type": "code",
   "execution_count": null,
   "metadata": {},
   "outputs": [],
   "source": [
    "deactivate"
   ]
  },
  {
   "cell_type": "markdown",
   "metadata": {},
   "source": [
    "Una vez que se ingreso el comando el \"(env)\" de la terminal debería quitarse como se ve ne la siguiente imagen:"
   ]
  },
  {
   "cell_type": "markdown",
   "metadata": {},
   "source": [
    "<img src=\"2.2-entornoVirtual.png\">"
   ]
  }
 ],
 "metadata": {
  "language_info": {
   "name": "python"
  },
  "orig_nbformat": 4
 },
 "nbformat": 4,
 "nbformat_minor": 2
}
