{
 "cells": [
  {
   "cell_type": "markdown",
   "metadata": {},
   "source": [
    "# Ejercicio 1: Crear y usas listas de Python\n",
    "\n",
    "<li>En primer lugar, crea una variable denominada planets. Agrega los ocho planetas (sin Plutón) a la lista. A continuación, muestra el número de planetas.</li>"
   ]
  },
  {
   "cell_type": "code",
   "execution_count": 2,
   "metadata": {},
   "outputs": [
    {
     "name": "stdout",
     "output_type": "stream",
     "text": [
      "['Mercury', 'Venus', 'Earth', 'Mars', 'Jupiter', 'Saturn', 'Uranus', 'Neptune']\n",
      "El número de planetas son 8\n"
     ]
    }
   ],
   "source": [
    "planets = ['Mercury', 'Venus', 'Earth', 'Mars', 'Jupiter', 'Saturn', 'Uranus', 'Neptune']\n",
    "print(planets)\n",
    "print('El número de planetas son' , len(planets))"
   ]
  },
  {
   "cell_type": "markdown",
   "metadata": {},
   "source": [
    "<li>Agrega a Plutón a la lista que creaste. Luego muestra tanto el número de planetas como el último planeta de la lista.</li>"
   ]
  },
  {
   "cell_type": "code",
   "execution_count": 3,
   "metadata": {},
   "outputs": [
    {
     "name": "stdout",
     "output_type": "stream",
     "text": [
      "El número de planetas son 9\n",
      "Pluto es el último planeta\n"
     ]
    }
   ],
   "source": [
    "planets.append('Pluto')\n",
    "print('El número de planetas son' , len(planets))\n",
    "print(planets[-1] + ' es el último planeta')"
   ]
  },
  {
   "cell_type": "markdown",
   "metadata": {},
   "source": [
    "# Ejercicio 2: Trabajando con datos de una lista\n",
    "\n",
    "Es posible que debas trabajar con diferentes secciones de una lista. En nuestro ejemplo, queremos mostrar planetas más cerca y más lejos del sol de un planeta que el usuario ingresa por teclado.\n",
    "\n",
    "<li> Comienza agregando el código para crear una lista con los planetas.</li>\n"
   ]
  },
  {
   "cell_type": "code",
   "execution_count": 4,
   "metadata": {},
   "outputs": [],
   "source": [
    "planets = ['Mercury', 'Venus', 'Earth', 'Mars', 'Jupiter', 'Saturn', 'Neptune']"
   ]
  },
  {
   "cell_type": "markdown",
   "metadata": {},
   "source": [
    "<li>Solicita al usuario el nombre de un planeta</li>"
   ]
  },
  {
   "cell_type": "code",
   "execution_count": 6,
   "metadata": {},
   "outputs": [
    {
     "name": "stdout",
     "output_type": "stream",
     "text": [
      "el planeta Earth se encuentra en la lista\n"
     ]
    }
   ],
   "source": [
    "planet = input('Ingrese el nombre del planeta comenzando con mayúscula')\n",
    "for i in planets:\n",
    "    if i == planet:\n",
    "        print(f'el planeta {planet} se encuentra en la lista')\n",
    "        x = True\n",
    "        break\n",
    "    else:\n",
    "        x = False\n",
    "\n",
    "if x == False: print(f'el planeta {planet} no se encuentra en la lista')"
   ]
  },
  {
   "cell_type": "markdown",
   "metadata": {},
   "source": [
    "<li> Encuentra el planeta en la lista</li>"
   ]
  },
  {
   "cell_type": "code",
   "execution_count": 7,
   "metadata": {},
   "outputs": [
    {
     "name": "stdout",
     "output_type": "stream",
     "text": [
      "the planet have the index:  2\n"
     ]
    }
   ],
   "source": [
    "indice = planets.index(planet)\n",
    "print('the planet have the index: ' , indice)"
   ]
  },
  {
   "cell_type": "markdown",
   "metadata": {},
   "source": [
    "<li>Mostrar planetas más cercanos al sol que el que el usuario ingresó</li>"
   ]
  },
  {
   "cell_type": "code",
   "execution_count": 9,
   "metadata": {},
   "outputs": [
    {
     "name": "stdout",
     "output_type": "stream",
     "text": [
      "planets closer to the sun than Earth: ['Mercury', 'Venus']\n"
     ]
    }
   ],
   "source": [
    "planets_close_sun = planets[0:indice]\n",
    "print(f'planets closer to the sun than {planets[indice]}:', planets_close_sun)"
   ]
  },
  {
   "cell_type": "markdown",
   "metadata": {},
   "source": [
    "<li>Mostrar planetas más alejados del sol que el que el usuario ingresó</li>"
   ]
  },
  {
   "cell_type": "code",
   "execution_count": 10,
   "metadata": {},
   "outputs": [
    {
     "name": "stdout",
     "output_type": "stream",
     "text": [
      "planets farthest from the sun than Earth: ['Mars', 'Jupiter', 'Saturn', 'Neptune']\n"
     ]
    }
   ],
   "source": [
    "planets_away_sun = planets[indice+1:]\n",
    "print(f'planets farthest from the sun than {planets[indice]}:', planets_away_sun)"
   ]
  }
 ],
 "metadata": {
  "interpreter": {
   "hash": "d6efe6c60ae57cb310beee427e99c843cf6652d51713d48e08fd1017174009a8"
  },
  "kernelspec": {
   "display_name": "Python 3.10.2 64-bit (windows store)",
   "language": "python",
   "name": "python3"
  },
  "language_info": {
   "codemirror_mode": {
    "name": "ipython",
    "version": 3
   },
   "file_extension": ".py",
   "mimetype": "text/x-python",
   "name": "python",
   "nbconvert_exporter": "python",
   "pygments_lexer": "ipython3",
   "version": "3.10.2"
  },
  "orig_nbformat": 4
 },
 "nbformat": 4,
 "nbformat_minor": 2
}
