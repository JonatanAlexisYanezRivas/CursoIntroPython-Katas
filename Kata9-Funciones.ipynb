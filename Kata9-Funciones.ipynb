{
 "cells": [
  {
   "cell_type": "markdown",
   "metadata": {},
   "source": [
    "# Ejercicio 1: Trabajar con argumentos en funciones \n",
    "\n",
    "<li>Comienza por crear una función que necesite tres lecturas de combustible y devuelva un informe:m</li>"
   ]
  },
  {
   "cell_type": "code",
   "execution_count": 4,
   "metadata": {},
   "outputs": [
    {
     "name": "stdout",
     "output_type": "stream",
     "text": [
      "promedio: 6.666666666666667%\n"
     ]
    }
   ],
   "source": [
    "def tanques(tanque1, tanque2, tanque3):\n",
    "    total = tanque1 + tanque2 + tanque3 \n",
    "    promedio = total / 3\n",
    "    print(f'promedio: {promedio}%' )\n",
    "\n",
    "tanques(5,10,5)"
   ]
  },
  {
   "cell_type": "markdown",
   "metadata": {},
   "source": [
    "<li> Mejora la legibilidad extrayendo el cálculo promedio de la función en una nueva función para que el promedio se pueda hacer de forma independiente</li>"
   ]
  },
  {
   "cell_type": "code",
   "execution_count": 13,
   "metadata": {},
   "outputs": [
    {
     "data": {
      "text/plain": [
       "10.0"
      ]
     },
     "execution_count": 13,
     "metadata": {},
     "output_type": "execute_result"
    }
   ],
   "source": [
    "def promedio(tanques):\n",
    "    total = sum(tanques)\n",
    "    promedio = total / len(tanques)\n",
    "    return promedio\n",
    "\n",
    "promedio([10,10,10])"
   ]
  },
  {
   "cell_type": "markdown",
   "metadata": {},
   "source": [
    "<li>Ahora actualiza la función de informes para llamando a la nueva función del promedio</li>"
   ]
  },
  {
   "cell_type": "code",
   "execution_count": 24,
   "metadata": {},
   "outputs": [
    {
     "data": {
      "text/plain": [
       "'promedio: 4.666666666666667 tanque1: 5%, tanque2: 3%, tanque3: 6%'"
      ]
     },
     "execution_count": 24,
     "metadata": {},
     "output_type": "execute_result"
    }
   ],
   "source": [
    "def tanques(tanque1, tanque2, tanque3):\n",
    "    return f'promedio: {promedio([tanque1,tanque2,tanque3])}' + f' tanque1: {tanque1}%, tanque2: {tanque2}%, tanque3: {tanque3}%'\n",
    "\n",
    "tanques(5,3,6)"
   ]
  },
  {
   "cell_type": "markdown",
   "metadata": {},
   "source": [
    "# Ejercicio 2: Trabajo con argumentos de palabra clave\n",
    "\n",
    "<li>unción con un informe preciso de la misión. Considera hora de prelanzamiento, tiempo de vuelo, destino, tanque externo y tanque interno</li>"
   ]
  },
  {
   "cell_type": "code",
   "execution_count": 56,
   "metadata": {},
   "outputs": [
    {
     "name": "stdout",
     "output_type": "stream",
     "text": [
      "Tiempo de vuelo: 1000 \n",
      "Destino: moon \n",
      "Tanque externo: 10 \n",
      "Tanque interno: 15\n"
     ]
    }
   ],
   "source": [
    "def informe(tiempo_vuelo, destino, tanque_externo, tanque_interno):\n",
    "    return f'Tiempo de vuelo: {tiempo_vuelo} \\nDestino: {destino} \\nTanque externo: {tanque_externo} \\nTanque interno: {tanque_interno}'\n",
    "\n",
    "print(informe(1000,'moon',10,15))"
   ]
  },
  {
   "cell_type": "markdown",
   "metadata": {},
   "source": [
    "La función es problemática porque no se puede adaptar para minutos adicionales o tanques adicionales de combustible. Hazlo más flexible permitiendo cualquier número de pasos basados en el tiempo y cualquier número de tanques. En lugar de usar *args y **kwargs, aprovecha el hecho de que puedes usar cualquier nombre que desees. Asegurate que la función sea más legible mediante el uso de nombres de variables que están asociados con las entradas, como *minutes y **fuel_reservoirs:"
   ]
  },
  {
   "cell_type": "code",
   "execution_count": 57,
   "metadata": {},
   "outputs": [
    {
     "name": "stdout",
     "output_type": "stream",
     "text": [
      "Destino: luna \n",
      "Tiempo de vuelo: 3406 minutos \n",
      "Total tanques: 3900 litros\n"
     ]
    }
   ],
   "source": [
    "def informe(destino, *tiempo, **tanques):\n",
    "    total_time = sum(tiempo)\n",
    "    contenido_tanques = sum(tanques.values())\n",
    "    return f'Destino: {destino} \\nTiempo de vuelo: {total_time} minutos \\nTotal tanques: {contenido_tanques} litros'\n",
    "\n",
    "print(informe('luna',100,201,3105, tanque_int=1700,tanque_ext=2200))"
   ]
  },
  {
   "cell_type": "markdown",
   "metadata": {},
   "source": [
    "<li>Debido a que el combustible que queda en los tanques es específico de cada tanque, actualiza la función para usar el nombre de cada tanque en el informe:</li>"
   ]
  },
  {
   "cell_type": "code",
   "execution_count": 58,
   "metadata": {},
   "outputs": [
    {
     "name": "stdout",
     "output_type": "stream",
     "text": [
      "Destino: luna \n",
      "Tiempo de vuelo: 3406 minutos \n",
      "Total tanques: 3900 litros \n",
      "tanque: interno, contenido: 1700 \n",
      "tanque: externo, contenido: 2200 \n",
      "\n"
     ]
    }
   ],
   "source": [
    "def informe(destino, *tiempo, **tanques):\n",
    "    total_time = sum(tiempo)\n",
    "    contenido_tanques = sum(tanques.values())\n",
    "    cadena =''\n",
    "    for tanque, valor in tanques.items(): cadena += f'tanque: {tanque}, contenido: {valor} \\n'\n",
    "    return f'Destino: {destino} \\nTiempo de vuelo: {total_time} minutos \\nTotal tanques: {contenido_tanques} litros \\n{cadena}'\n",
    "\n",
    "print(informe('luna',100,201,3105, interno=1700, externo=2200))"
   ]
  }
 ],
 "metadata": {
  "interpreter": {
   "hash": "d6efe6c60ae57cb310beee427e99c843cf6652d51713d48e08fd1017174009a8"
  },
  "kernelspec": {
   "display_name": "Python 3.10.2 64-bit (windows store)",
   "language": "python",
   "name": "python3"
  },
  "language_info": {
   "codemirror_mode": {
    "name": "ipython",
    "version": 3
   },
   "file_extension": ".py",
   "mimetype": "text/x-python",
   "name": "python",
   "nbconvert_exporter": "python",
   "pygments_lexer": "ipython3",
   "version": "3.10.2"
  },
  "orig_nbformat": 4
 },
 "nbformat": 4,
 "nbformat_minor": 2
}
