{
 "cells": [
  {
   "cell_type": "markdown",
   "metadata": {},
   "source": [
    "# Ejercicio 1: Escribir declaraciones if, else, y elif\n",
    "\n",
    "Para este ejercicio, escribirás una lógica condicional que imprima una advertencia si un asteroide se acerca a la Tierra demasiado rápido. La velocidad del asteroide varía dependiendo de lo cerca que esté del sol, y cualquier velocidad superior a 25 kilómetros por segundo (km/s) merece una advertencia.\n",
    "\n",
    "### Un asteroide se acerca, y viaja a una velocidad de 49 km/s.\n",
    "\n",
    "<li>Añadir el código necesario para crear una variable que guarde la velocidad del asteroide. </li>\n",
    "<li>Escribe una expresión de prueba para calcular si necesita una advertencia.</li>\n",
    "<li>Agregue las instrucciones que se ejecutarán si la expresión de prueba es true o false.</li>"
   ]
  },
  {
   "cell_type": "code",
   "execution_count": 10,
   "metadata": {},
   "outputs": [
    {
     "name": "stdout",
     "output_type": "stream",
     "text": [
      "¡Peligro!, un asteroide se acerca a la tierra demasiado rápido; con una velocidad de 49km/s\n"
     ]
    }
   ],
   "source": [
    "velocidadPeligro = 25\n",
    "velocidadAsteroide = 49\n",
    "\n",
    "if velocidadAsteroide >= velocidadPeligro:\n",
    "    print('¡Peligro!, un asteroide se acerca a la tierra demasiado rápido; con una velocidad de ' + str(velocidadAsteroide) + 'km/s')\n",
    "else:\n",
    "    print('Un asteroide se dirige a la tierra con una velocidad menor a ' + str(velocidadPeligro) + 'km/s' )\n",
    "\n"
   ]
  },
  {
   "cell_type": "markdown",
   "metadata": {},
   "source": [
    "Si un asteroide entra en la atmósfera de la Tierra a una velocidad mayor o igual a 20 km/s, a veces produce un rayo de luz que se puede ver desde la Tierra. Escribe la lógica condicional que usa declaraciones if, else, y elif para alertar a las personas de todo el mundo que deben buscar un asteroide en el cielo. ¡Hay uno que se dirige a la tierra ahora a una velocidad de 19 km/s!\n",
    "\n",
    "<li>Agrega el código para crear una variable para un asteroide que viaja a 19 km/s</li>\n",
    "<li>Escribe varias expresiones de prueba para determinar si puedes ver el rayo de luz desde la tierra</li>\n",
    "<li>Agrega las instrucciones que se ejecutarán si las expresiones de prueba son True o False</li>"
   ]
  },
  {
   "cell_type": "code",
   "execution_count": 11,
   "metadata": {},
   "outputs": [
    {
     "name": "stdout",
     "output_type": "stream",
     "text": [
      "El asteroide tiene una velocidad 19km/s no produce rayo de luz\n"
     ]
    }
   ],
   "source": [
    "velocidadAsteroide = 19\n",
    "\n",
    "if velocidadAsteroide >= 20:\n",
    "    print('Se puede producir un rayo de luz, busque el asteroide en el cielo')\n",
    "else:\n",
    "    print('El asteroide tiene una velocidad ' +str(velocidadAsteroide) + 'km/s no produce rayo de luz' )\n"
   ]
  },
  {
   "cell_type": "markdown",
   "metadata": {},
   "source": [
    "# Ejercicio 2: Uso de operadores and y or\n",
    "\n",
    "Los asteroides de menos de 25 metros en su dimensión más grande probablemente se quemarán a medida que entren en la atmósfera de la Tierra.\n",
    "\n",
    "<li>Si una pieza de un asteroide que es más grande que 25 metros pero más pequeña que 1000 metros golpeara la Tierra, causaría mucho daño.</li>\n",
    "\n",
    "También discutimos en el ejercicio anterior que:\n",
    "\n",
    "<li>La velocidad del asteroide varía en función de lo cerca que esté del sol, y cualquier velocidad superior a 25 kilómetros por segundo (km/s) merece una advertencia.</li>\n",
    "<li>Si un asteroide entra en la atmósfera de la Tierra a una velocidad mayor o igual a 20 km/s, a veces produce un rayo de luz que se puede ver desde la Tierra.</li>"
   ]
  },
  {
   "cell_type": "code",
   "execution_count": 20,
   "metadata": {},
   "outputs": [
    {
     "name": "stdout",
     "output_type": "stream",
     "text": [
      "peligro se dirige un asteroide a la tierra\n",
      "con un tamaño de 30m y una velocidad de 28km/s\n"
     ]
    }
   ],
   "source": [
    "tamañoAsteroide = 30\n",
    "velocidadAsteroide = 28\n",
    "\n",
    "if (tamañoAsteroide > 25 and tamañoAsteroide<1000) and velocidadAsteroide > 25:\n",
    "    print('peligro se dirige un asteroide a la tierra')\n",
    "    print('con un tamaño de ' + str(tamañoAsteroide) + 'm y una velocidad de ' + str(velocidadAsteroide) + 'km/s')\n",
    "elif velocidadAsteroide >= 20:\n",
    "    print('Se puede producir un rayo de luz, busque el asteroide en el cielo')\n",
    "elif tamañoAsteroide < 25:\n",
    "    print('No se preocupe, es probable que el asteroide se queme en la atmósfera')\n",
    "else:\n",
    "    print('No hay peligro')\n",
    "\n",
    "    "
   ]
  }
 ],
 "metadata": {
  "interpreter": {
   "hash": "d6efe6c60ae57cb310beee427e99c843cf6652d51713d48e08fd1017174009a8"
  },
  "kernelspec": {
   "display_name": "Python 3.10.2 64-bit (windows store)",
   "language": "python",
   "name": "python3"
  },
  "language_info": {
   "codemirror_mode": {
    "name": "ipython",
    "version": 3
   },
   "file_extension": ".py",
   "mimetype": "text/x-python",
   "name": "python",
   "nbconvert_exporter": "python",
   "pygments_lexer": "ipython3",
   "version": "3.10.2"
  },
  "orig_nbformat": 4
 },
 "nbformat": 4,
 "nbformat_minor": 2
}
